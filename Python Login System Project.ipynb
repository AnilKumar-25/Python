{
 "cells": [
  {
   "cell_type": "code",
   "execution_count": 1,
   "id": "48e6a4df",
   "metadata": {},
   "outputs": [],
   "source": [
    "def register():\n",
    "    Username=input(\"Create username:\")\n",
    "    Password=input(\"Create password:\")\n",
    "    Password1=input(\"Confirm password:\")\n",
    "    \n",
    "    db=open('database.txt','r')\n",
    "    u=[]\n",
    "    p=[]\n",
    "    for i in db:\n",
    "        a,b=i.split(\",\")\n",
    "        b=b.strip()\n",
    "        u.append(a)\n",
    "        p.append(b)\n",
    "    data=dict(zip(u,p))\n",
    "    db.close()\n",
    "    \n",
    "    if Password!=Password1:\n",
    "        print(\"Passwords doesnot match, restart\")\n",
    "        register()\n",
    "    else:\n",
    "        if len(Password)<=6:\n",
    "            print('Password too short, restart')\n",
    "            register()\n",
    "        elif Username in u:\n",
    "            print('Username already exists')\n",
    "            register()\n",
    "        else:\n",
    "            db=open('database.txt','a')\n",
    "            db.write(Username+\",\"+Password+\"\\n\")\n",
    "            print('User created successfully!!')"
   ]
  },
  {
   "cell_type": "code",
   "execution_count": 2,
   "id": "54dae321",
   "metadata": {},
   "outputs": [],
   "source": [
    "def access():\n",
    "    Username=input(\"Enter your username:\")\n",
    "    Password=input(\"Enter your password:\")\n",
    "    \n",
    "    if not len(Username or Password)<1:\n",
    "        db=open('database.txt','r')\n",
    "        u=[]\n",
    "        p=[]\n",
    "        for i in db:\n",
    "            a,b=i.split(\",\")\n",
    "            b=b.strip()\n",
    "            u.append(a)\n",
    "            p.append(b)\n",
    "        data=dict(zip(u,p))\n",
    "        db.close()\n",
    "        \n",
    "        try:\n",
    "            if data[Username]:\n",
    "                try:\n",
    "                    if Password == data[Username]:\n",
    "                        print(\"Login success\")\n",
    "                        print(\"Hi,\", Username)\n",
    "                    else:\n",
    "                        print(\"Password or Username incorrect\")\n",
    "                except:\n",
    "                    print(\"Incorrect password or username\")\n",
    "            else:\n",
    "                print(\"Username doesnot exists\")\n",
    "        except:\n",
    "            print(\"Username or Password incorrect\")\n",
    "    else:\n",
    "         print('Please enter the value')\n"
   ]
  },
  {
   "cell_type": "code",
   "execution_count": 3,
   "id": "60481c30",
   "metadata": {},
   "outputs": [],
   "source": [
    "def forget():\n",
    "    db=open('database.txt','r')\n",
    "    u=[]\n",
    "    p=[]\n",
    "    \n",
    "    for i in db:\n",
    "        a,b=i.split(\",\")\n",
    "        b.strip()\n",
    "        u.append(a)\n",
    "        p.append(b)\n",
    "    data=dict(zip(u,p))\n",
    "    db.close()\n",
    "    \n",
    "    Username=input('Enter your username: ')\n",
    "    Password = input('Enter your password: ')\n",
    "    \n",
    "    try:\n",
    "        if data[Username]:\n",
    "            try:\n",
    "                if Password == data[Username]:\n",
    "                    Password_new = input('Enter new password: ')\n",
    "                    oldPassword=data[username]\n",
    "                    newPassword=Password_new\n",
    "                    oldData=username+','+oldPassword\n",
    "                    newData=username+','+newPassword\n",
    "                    replace(oldPassword, newPassword)\n",
    "                    print('Replaced successfullly')\n",
    "                else:\n",
    "                    print('Replace unsuccessful')\n",
    "            except:\n",
    "                print('Current password dont match')\n",
    "        else:\n",
    "            print('Username doesnot exist')\n",
    "    except:\n",
    "        print('Username do not exist')\n",
    "        \n"
   ]
  },
  {
   "cell_type": "code",
   "execution_count": 4,
   "id": "74d79d84",
   "metadata": {
    "scrolled": false
   },
   "outputs": [
    {
     "name": "stdout",
     "output_type": "stream",
     "text": [
      "Login | Signup | forget passwordanil\n",
      "Login | Signup | forget passwordlogin\n",
      "Login | Signup | forget passwordLogin\n",
      "Enter your username:anil\n",
      "Enter your password:anil25\n"
     ]
    },
    {
     "ename": "FileNotFoundError",
     "evalue": "[Errno 2] No such file or directory: 'database.txt'",
     "output_type": "error",
     "traceback": [
      "\u001b[1;31m---------------------------------------------------------------------------\u001b[0m",
      "\u001b[1;31mFileNotFoundError\u001b[0m                         Traceback (most recent call last)",
      "\u001b[1;32m<ipython-input-4-dda2a1056e60>\u001b[0m in \u001b[0;36m<module>\u001b[1;34m\u001b[0m\n\u001b[0;32m      9\u001b[0m     \u001b[1;32melse\u001b[0m\u001b[1;33m:\u001b[0m\u001b[1;33m\u001b[0m\u001b[1;33m\u001b[0m\u001b[0m\n\u001b[0;32m     10\u001b[0m         \u001b[0mhome\u001b[0m\u001b[1;33m(\u001b[0m\u001b[1;33m)\u001b[0m\u001b[1;33m\u001b[0m\u001b[1;33m\u001b[0m\u001b[0m\n\u001b[1;32m---> 11\u001b[1;33m \u001b[0mhome\u001b[0m\u001b[1;33m(\u001b[0m\u001b[1;33m)\u001b[0m\u001b[1;33m\u001b[0m\u001b[1;33m\u001b[0m\u001b[0m\n\u001b[0m",
      "\u001b[1;32m<ipython-input-4-dda2a1056e60>\u001b[0m in \u001b[0;36mhome\u001b[1;34m(option)\u001b[0m\n\u001b[0;32m      8\u001b[0m         \u001b[0mforget\u001b[0m\u001b[1;33m(\u001b[0m\u001b[1;33m)\u001b[0m\u001b[1;33m\u001b[0m\u001b[1;33m\u001b[0m\u001b[0m\n\u001b[0;32m      9\u001b[0m     \u001b[1;32melse\u001b[0m\u001b[1;33m:\u001b[0m\u001b[1;33m\u001b[0m\u001b[1;33m\u001b[0m\u001b[0m\n\u001b[1;32m---> 10\u001b[1;33m         \u001b[0mhome\u001b[0m\u001b[1;33m(\u001b[0m\u001b[1;33m)\u001b[0m\u001b[1;33m\u001b[0m\u001b[1;33m\u001b[0m\u001b[0m\n\u001b[0m\u001b[0;32m     11\u001b[0m \u001b[0mhome\u001b[0m\u001b[1;33m(\u001b[0m\u001b[1;33m)\u001b[0m\u001b[1;33m\u001b[0m\u001b[1;33m\u001b[0m\u001b[0m\n",
      "\u001b[1;32m<ipython-input-4-dda2a1056e60>\u001b[0m in \u001b[0;36mhome\u001b[1;34m(option)\u001b[0m\n\u001b[0;32m      8\u001b[0m         \u001b[0mforget\u001b[0m\u001b[1;33m(\u001b[0m\u001b[1;33m)\u001b[0m\u001b[1;33m\u001b[0m\u001b[1;33m\u001b[0m\u001b[0m\n\u001b[0;32m      9\u001b[0m     \u001b[1;32melse\u001b[0m\u001b[1;33m:\u001b[0m\u001b[1;33m\u001b[0m\u001b[1;33m\u001b[0m\u001b[0m\n\u001b[1;32m---> 10\u001b[1;33m         \u001b[0mhome\u001b[0m\u001b[1;33m(\u001b[0m\u001b[1;33m)\u001b[0m\u001b[1;33m\u001b[0m\u001b[1;33m\u001b[0m\u001b[0m\n\u001b[0m\u001b[0;32m     11\u001b[0m \u001b[0mhome\u001b[0m\u001b[1;33m(\u001b[0m\u001b[1;33m)\u001b[0m\u001b[1;33m\u001b[0m\u001b[1;33m\u001b[0m\u001b[0m\n",
      "\u001b[1;32m<ipython-input-4-dda2a1056e60>\u001b[0m in \u001b[0;36mhome\u001b[1;34m(option)\u001b[0m\n\u001b[0;32m      2\u001b[0m     \u001b[0moption\u001b[0m\u001b[1;33m=\u001b[0m\u001b[0minput\u001b[0m\u001b[1;33m(\u001b[0m\u001b[1;34m\"Login | Signup | forget password\"\u001b[0m\u001b[1;33m)\u001b[0m\u001b[1;33m\u001b[0m\u001b[1;33m\u001b[0m\u001b[0m\n\u001b[0;32m      3\u001b[0m     \u001b[1;32mif\u001b[0m \u001b[0moption\u001b[0m \u001b[1;33m==\u001b[0m \u001b[1;34m'Login'\u001b[0m\u001b[1;33m:\u001b[0m\u001b[1;33m\u001b[0m\u001b[1;33m\u001b[0m\u001b[0m\n\u001b[1;32m----> 4\u001b[1;33m         \u001b[0maccess\u001b[0m\u001b[1;33m(\u001b[0m\u001b[1;33m)\u001b[0m\u001b[1;33m\u001b[0m\u001b[1;33m\u001b[0m\u001b[0m\n\u001b[0m\u001b[0;32m      5\u001b[0m     \u001b[1;32melif\u001b[0m \u001b[0moption\u001b[0m\u001b[1;33m==\u001b[0m\u001b[1;34m'Signup'\u001b[0m\u001b[1;33m:\u001b[0m\u001b[1;33m\u001b[0m\u001b[1;33m\u001b[0m\u001b[0m\n\u001b[0;32m      6\u001b[0m         \u001b[0mregister\u001b[0m\u001b[1;33m(\u001b[0m\u001b[1;33m)\u001b[0m\u001b[1;33m\u001b[0m\u001b[1;33m\u001b[0m\u001b[0m\n",
      "\u001b[1;32m<ipython-input-2-a4bf2627facc>\u001b[0m in \u001b[0;36maccess\u001b[1;34m()\u001b[0m\n\u001b[0;32m      4\u001b[0m \u001b[1;33m\u001b[0m\u001b[0m\n\u001b[0;32m      5\u001b[0m     \u001b[1;32mif\u001b[0m \u001b[1;32mnot\u001b[0m \u001b[0mlen\u001b[0m\u001b[1;33m(\u001b[0m\u001b[0mUsername\u001b[0m \u001b[1;32mor\u001b[0m \u001b[0mPassword\u001b[0m\u001b[1;33m)\u001b[0m\u001b[1;33m<\u001b[0m\u001b[1;36m1\u001b[0m\u001b[1;33m:\u001b[0m\u001b[1;33m\u001b[0m\u001b[1;33m\u001b[0m\u001b[0m\n\u001b[1;32m----> 6\u001b[1;33m         \u001b[0mdb\u001b[0m\u001b[1;33m=\u001b[0m\u001b[0mopen\u001b[0m\u001b[1;33m(\u001b[0m\u001b[1;34m'database.txt'\u001b[0m\u001b[1;33m,\u001b[0m\u001b[1;34m'r'\u001b[0m\u001b[1;33m)\u001b[0m\u001b[1;33m\u001b[0m\u001b[1;33m\u001b[0m\u001b[0m\n\u001b[0m\u001b[0;32m      7\u001b[0m         \u001b[0mu\u001b[0m\u001b[1;33m=\u001b[0m\u001b[1;33m[\u001b[0m\u001b[1;33m]\u001b[0m\u001b[1;33m\u001b[0m\u001b[1;33m\u001b[0m\u001b[0m\n\u001b[0;32m      8\u001b[0m         \u001b[0mp\u001b[0m\u001b[1;33m=\u001b[0m\u001b[1;33m[\u001b[0m\u001b[1;33m]\u001b[0m\u001b[1;33m\u001b[0m\u001b[1;33m\u001b[0m\u001b[0m\n",
      "\u001b[1;31mFileNotFoundError\u001b[0m: [Errno 2] No such file or directory: 'database.txt'"
     ]
    }
   ],
   "source": [
    "def home(option=None):\n",
    "    option=input(\"Login | Signup | forget password\")\n",
    "    if option == 'Login':\n",
    "        access()\n",
    "    elif option=='Signup':\n",
    "        register()\n",
    "    elif option=='forget password':\n",
    "        forget()\n",
    "    else:\n",
    "        home()\n",
    "home()"
   ]
  },
  {
   "cell_type": "code",
   "execution_count": null,
   "id": "bc5a26c1",
   "metadata": {},
   "outputs": [],
   "source": []
  }
 ],
 "metadata": {
  "kernelspec": {
   "display_name": "Python 3",
   "language": "python",
   "name": "python3"
  },
  "language_info": {
   "codemirror_mode": {
    "name": "ipython",
    "version": 3
   },
   "file_extension": ".py",
   "mimetype": "text/x-python",
   "name": "python",
   "nbconvert_exporter": "python",
   "pygments_lexer": "ipython3",
   "version": "3.8.8"
  }
 },
 "nbformat": 4,
 "nbformat_minor": 5
}
